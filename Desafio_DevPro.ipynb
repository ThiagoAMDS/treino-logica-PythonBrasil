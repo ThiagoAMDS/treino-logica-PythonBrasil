{
  "nbformat": 4,
  "nbformat_minor": 0,
  "metadata": {
    "colab": {
      "name": "Desafio_DevPro.ipynb",
      "provenance": [],
      "authorship_tag": "ABX9TyOxAxZ6n3POYL1mtQbh57Z2",
      "include_colab_link": true
    },
    "kernelspec": {
      "name": "python3",
      "display_name": "Python 3"
    },
    "language_info": {
      "name": "python"
    }
  },
  "cells": [
    {
      "cell_type": "markdown",
      "metadata": {
        "id": "view-in-github",
        "colab_type": "text"
      },
      "source": [
        "<a href=\"https://colab.research.google.com/github/ThiagoAMDS/treino-logica-PythonBrasil/blob/master/Desafio_DevPro.ipynb\" target=\"_parent\"><img src=\"https://colab.research.google.com/assets/colab-badge.svg\" alt=\"Open In Colab\"/></a>"
      ]
    },
    {
      "cell_type": "markdown",
      "metadata": {
        "id": "V1qKWdgq0on0"
      },
      "source": [
        "#Desafio Devpro\n"
      ]
    },
    {
      "cell_type": "markdown",
      "metadata": {
        "id": "nZYPA9wb0vv7"
      },
      "source": [
        "### Nesse notebook irei resolver vários exercícios da [lista da Python Brasil](https://wiki.python.org.br/ListaDeExercicios), com o intuito de revisar um pouco do que aprendi a um tempo atrás sobre a linguagem."
      ]
    },
    {
      "cell_type": "markdown",
      "metadata": {
        "id": "Eoy7wmZUwlpV"
      },
      "source": [
        "## [Estrutura Sequencial](https://wiki.python.org.br/EstruturaSequencial)"
      ]
    },
    {
      "cell_type": "markdown",
      "metadata": {
        "id": "hLUmN8xuw4PU"
      },
      "source": [
        "Exercício 1"
      ]
    },
    {
      "cell_type": "code",
      "metadata": {
        "colab": {
          "base_uri": "https://localhost:8080/"
        },
        "id": "j-s01XfXw887",
        "outputId": "df309175-ddda-4ca0-d22d-d668511851af"
      },
      "source": [
        "print('Olá Mundo')"
      ],
      "execution_count": null,
      "outputs": [
        {
          "output_type": "stream",
          "name": "stdout",
          "text": [
            "Olá Mundo\n"
          ]
        }
      ]
    },
    {
      "cell_type": "code",
      "metadata": {
        "colab": {
          "base_uri": "https://localhost:8080/"
        },
        "id": "wk-ULDgLxON1",
        "outputId": "a671cc90-1b0b-43e0-e1ec-6c17fa7b71fe"
      },
      "source": [
        "type('Olá Mundo')"
      ],
      "execution_count": null,
      "outputs": [
        {
          "output_type": "execute_result",
          "data": {
            "text/plain": [
              "str"
            ]
          },
          "metadata": {},
          "execution_count": 2
        }
      ]
    },
    {
      "cell_type": "markdown",
      "metadata": {
        "id": "pVYiF1HJxYy2"
      },
      "source": [
        "Exercício 2"
      ]
    },
    {
      "cell_type": "code",
      "metadata": {
        "id": "3407I7f7xSDS"
      },
      "source": [
        ""
      ],
      "execution_count": null,
      "outputs": []
    },
    {
      "cell_type": "code",
      "metadata": {
        "colab": {
          "base_uri": "https://localhost:8080/"
        },
        "id": "0kHdcLFMxomn",
        "outputId": "aa097e2c-9bc6-4e80-9a74-bbe179177c72"
      },
      "source": [
        "numero = input('Digite um número: ')\n",
        "print(f'O número informado foi: {numero}')"
      ],
      "execution_count": null,
      "outputs": [
        {
          "output_type": "stream",
          "name": "stdout",
          "text": [
            "Digite um número: 25\n",
            "O número informado foi: 25\n"
          ]
        }
      ]
    },
    {
      "cell_type": "markdown",
      "metadata": {
        "id": "osKdYNS1yhB3"
      },
      "source": [
        "Exercício 3"
      ]
    },
    {
      "cell_type": "code",
      "metadata": {
        "colab": {
          "base_uri": "https://localhost:8080/"
        },
        "id": "cIJIjm3symYp",
        "outputId": "211f4435-40a6-4d9b-dbac-d0d5f21f70ea"
      },
      "source": [
        "numero1 = input('Digite o primeiro numero: ')\n",
        "numero2 = input('Digite o segundo numero: ')\n",
        "soma = numero1 + numero2\n",
        "print(f'A soma dos números {numero1} e {numero2} é : {soma}')"
      ],
      "execution_count": null,
      "outputs": [
        {
          "output_type": "stream",
          "name": "stdout",
          "text": [
            "Digite o primeiro numero: 15\n",
            "Digite o segundo numero: 35\n",
            "A soma dos números 15 e 35 é : 1535\n"
          ]
        }
      ]
    },
    {
      "cell_type": "code",
      "metadata": {
        "colab": {
          "base_uri": "https://localhost:8080/"
        },
        "id": "jWJ_Ul5Cz0FO",
        "outputId": "13d8f4c0-6158-433e-c4c5-217b7e568eac"
      },
      "source": [
        "numero1 = int(input('Digite o primeiro numero: '))\n",
        "numero2 = int(input('Digite o segundo numero: '))\n",
        "soma = numero1 + numero2\n",
        "print(f'A soma dos números {numero1} e {numero2} é : {soma}')"
      ],
      "execution_count": null,
      "outputs": [
        {
          "output_type": "stream",
          "name": "stdout",
          "text": [
            "Digite o primeiro numero: 15\n",
            "Digite o segundo numero: 35\n",
            "A soma dos números 15 e 35 é : 50\n"
          ]
        }
      ]
    },
    {
      "cell_type": "markdown",
      "metadata": {
        "id": "XfURw63S1Dhx"
      },
      "source": [
        "Exercício 4"
      ]
    },
    {
      "cell_type": "code",
      "metadata": {
        "colab": {
          "base_uri": "https://localhost:8080/"
        },
        "id": "eC0NyXKc1Jdu",
        "outputId": "a289f9dc-4bde-4a11-a55e-fecea424d47f"
      },
      "source": [
        "nota_1 = float(input(\"Informe a primeira nota: \"))\n",
        "nota_2 = float(input(\"Informe a segunda nota: \"))\n",
        "nota_3 = float(input('Informe a terceira nota: '))\n",
        "nota_4 = float(input(\"Informe a quarta nota: \"))\n",
        "media = (nota_1 + nota_2 + nota_3 + nota_4)/4\n",
        "print(f\"A média do aluno foi: {media}\")"
      ],
      "execution_count": null,
      "outputs": [
        {
          "output_type": "stream",
          "name": "stdout",
          "text": [
            "Informe a primeira nota: 9.7\n",
            "Informe a segunda nota: 3.4\n",
            "Informe a terceira nota: 5.8\n",
            "Informe a quarta nota: 6.0\n",
            "A média do aluno foi: 6.225\n"
          ]
        }
      ]
    },
    {
      "cell_type": "markdown",
      "metadata": {
        "id": "byeqjXlR3bQs"
      },
      "source": [
        "Exercício 5"
      ]
    },
    {
      "cell_type": "code",
      "metadata": {
        "colab": {
          "base_uri": "https://localhost:8080/"
        },
        "id": "bAbTLtVd1IU_",
        "outputId": "64436fe5-4415-4139-d93c-2e83ab436545"
      },
      "source": [
        "metros = float(input(\"informe a medida em metros: \"))\n",
        "centimetros = metros*100\n",
        "print(f\"A medida informada em centímetros é: {centimetros}\")"
      ],
      "execution_count": null,
      "outputs": [
        {
          "output_type": "stream",
          "name": "stdout",
          "text": [
            "informe a medida em metros: 345.62\n",
            "A medida informada em centímetros é: 34562.0\n"
          ]
        }
      ]
    },
    {
      "cell_type": "markdown",
      "metadata": {
        "id": "B1Nvqj1v5Kzo"
      },
      "source": [
        "Exercício 6"
      ]
    },
    {
      "cell_type": "code",
      "metadata": {
        "colab": {
          "base_uri": "https://localhost:8080/"
        },
        "id": "_muvZmIb4Jnu",
        "outputId": "b90b3546-55b4-43d4-faf5-7483221a17e4"
      },
      "source": [
        "raio_circulo = float(input(\"Informe o valor do raio do círculo: \"))\n",
        "area_circulo = 3.14*(raio_circulo)**2\n",
        "print(f\"A área do círculo de raio {raio_circulo} é: {area_circulo}\")"
      ],
      "execution_count": null,
      "outputs": [
        {
          "output_type": "stream",
          "name": "stdout",
          "text": [
            "Informe o valor do raio do círculo: 6.83\n",
            "A área do círculo de raio 6.83 é: 146.477546\n"
          ]
        }
      ]
    },
    {
      "cell_type": "code",
      "metadata": {
        "colab": {
          "base_uri": "https://localhost:8080/"
        },
        "id": "bDC3zBsr7wlC",
        "outputId": "dff7fb0c-cd98-4d64-89f0-fe73303864d1"
      },
      "source": [
        "raio_circulo = float(input(\"Informe o valor do raio do círculo: \"))\n",
        "area_circulo = 3.14*(raio_circulo)**2\n",
        "print(f\"A área do círculo de raio {raio_circulo} é: {area_circulo:.2f}\")"
      ],
      "execution_count": null,
      "outputs": [
        {
          "output_type": "stream",
          "name": "stdout",
          "text": [
            "Informe o valor do raio do círculo: 6.83\n",
            "A área do círculo de raio 6.83 é: 146.48\n"
          ]
        }
      ]
    },
    {
      "cell_type": "markdown",
      "metadata": {
        "id": "E6S5awc09TzH"
      },
      "source": [
        "Exercício 8"
      ]
    },
    {
      "cell_type": "code",
      "metadata": {
        "colab": {
          "base_uri": "https://localhost:8080/"
        },
        "id": "uMbntX8P8kdN",
        "outputId": "305d32df-521f-4f4b-e566-031441df7ae7"
      },
      "source": [
        "hora_salario = float(input(\"Informe quanto você ganha por hora: \"))\n",
        "horas_trabalhadas = float(input(\"Informe a quantidade de horas trabalhadas no mês: \"))\n",
        "salario_mensal = hora_salario*horas_trabalhadas\n",
        "print(f\"O seu salário mensal com o valor de R${hora_salario} foi de: {salario_mensal:.3f}\")"
      ],
      "execution_count": null,
      "outputs": [
        {
          "output_type": "stream",
          "name": "stdout",
          "text": [
            "Informe quanto você ganha por hora: 58.99\n",
            "Informe a quantidade de horas trabalhadas no mês: 160.54\n",
            "O seu salário mensal com o valor de R$58.99 foi de: 9470.255\n"
          ]
        }
      ]
    },
    {
      "cell_type": "markdown",
      "metadata": {
        "id": "LSXSp89QF9h_"
      },
      "source": [
        "Exercício 9"
      ]
    },
    {
      "cell_type": "code",
      "metadata": {
        "colab": {
          "base_uri": "https://localhost:8080/"
        },
        "id": "IZdrqTjAGBnn",
        "outputId": "d311c2b5-ce0b-420a-be31-8c286a9a057f"
      },
      "source": [
        "fahrenheit = float(input(\"Informe a temperatura em graus Fahrenheit: \"))\n",
        "conversao_celcius =  5 * ((fahrenheit-32) / 9)\n",
        "print(f\"A temperatura {fahrenheit}F° convertida para graus celcius é: {conversao_celcius:.2f}C°\")"
      ],
      "execution_count": null,
      "outputs": [
        {
          "output_type": "stream",
          "name": "stdout",
          "text": [
            "Informe a temperatura em graus Fahrenheit: 32\n",
            "A temperatura 32.0F° convertida para graus celcius é: 0.00C°\n"
          ]
        }
      ]
    },
    {
      "cell_type": "markdown",
      "metadata": {
        "id": "9aPNHgrUG1L5"
      },
      "source": [
        "Exercício 10"
      ]
    },
    {
      "cell_type": "code",
      "metadata": {
        "colab": {
          "base_uri": "https://localhost:8080/"
        },
        "id": "oh1QPKMM-qrq",
        "outputId": "e44050b1-411a-46cc-dceb-287f2f94ebac"
      },
      "source": [
        "celcius = float(input(\"Informe a temperatura em graus celsius: \"))\n",
        "conversao_fahrenheit = celcius*(9/5)+32\n",
        "print(f\"A temperatura {celcius} C° convertida para fahrenheit é: {conversao_fahrenheit:.2f}F°\")\n"
      ],
      "execution_count": null,
      "outputs": [
        {
          "output_type": "stream",
          "name": "stdout",
          "text": [
            "Informe a temperatura em graus celsius: 0\n",
            "A temperatura 0.0 C° convertida para fahrenheit é: 32.00F°\n"
          ]
        }
      ]
    },
    {
      "cell_type": "markdown",
      "metadata": {
        "id": "JcoAZHShFtjv"
      },
      "source": [
        "Eercício 11"
      ]
    },
    {
      "cell_type": "code",
      "metadata": {
        "colab": {
          "base_uri": "https://localhost:8080/"
        },
        "id": "Dx2lY_VKFPE3",
        "outputId": "8172fd2c-b308-4524-f791-6e3e709ad40e"
      },
      "source": [
        "inteiro_1 = int(input(\"Informe o primeiro numeor inteiro: \"))\n",
        "inteiro_2 = int(input(\"Informe o segundo numero inyeiro: \"))\n",
        "real = float(input(\"informe o numero real: \"))\n",
        "a = (inteiro_1*2)*(inteiro_2/2)\n",
        "b = (inteiro_1*3)+real\n",
        "c = real**3\n",
        "print(f\"O produto do dobro do primeiro com a metade do segundo é: {a}\")\n",
        "print(f\"A soma do triplo do primeiro com o terceiro é: {b:.3f}\")\n",
        "print(f\"O cubo do terceiro é: {c:.4f} \")\n"
      ],
      "execution_count": null,
      "outputs": [
        {
          "output_type": "stream",
          "name": "stdout",
          "text": [
            "Informe o primeiro numeor inteiro: 3\n",
            "Informe o segundo numero inyeiro: 7\n",
            "informe o numero real: 4.32\n",
            "O produto do dobro do primeiro com a metade do segundo é: 21.0\n",
            "A soma do triplo do primeiro com o terceiro é: 13.320\n",
            "O cubo do terceiro é: 80.6216 \n"
          ]
        }
      ]
    },
    {
      "cell_type": "markdown",
      "metadata": {
        "id": "RmrIgH78My6Q"
      },
      "source": [
        "Exercício 12"
      ]
    },
    {
      "cell_type": "code",
      "metadata": {
        "colab": {
          "base_uri": "https://localhost:8080/"
        },
        "id": "77ABo8HaJMWZ",
        "outputId": "03cf7b7a-8004-4c65-dbf6-482e43fbbb35"
      },
      "source": [
        "altura = float(input(\"Informe a sua altura: \"))\n",
        "peso_ideal = (72.7*altura) - 58\n",
        "print(f'O seu peso ideal deve ser de: {peso_ideal:.2f}')\n"
      ],
      "execution_count": null,
      "outputs": [
        {
          "output_type": "stream",
          "name": "stdout",
          "text": [
            "Informe a sua altura: 1.79\n",
            "O seu peso ideal deve ser de: 72.13\n"
          ]
        }
      ]
    },
    {
      "cell_type": "markdown",
      "metadata": {
        "id": "jwP9pjXUYZbC"
      },
      "source": [
        "Exercício 13"
      ]
    },
    {
      "cell_type": "code",
      "metadata": {
        "colab": {
          "base_uri": "https://localhost:8080/"
        },
        "id": "cAYD4pOjNQGi",
        "outputId": "6b958fcb-5937-4e96-b287-ec506ef6093f"
      },
      "source": [
        "altura = float(input(\"Informe a sua altura: \"))\n",
        "peso_ideal_homens = (72.7*altura) - 58\n",
        "peso_ideal_mulheres = (62.1*altura) - 44.7\n",
        "print(f'O seu peso ideal deve ser de: {peso_ideal_homens:.2f} para homens ou {peso_ideal_mulheres:.2f} para mulheres')"
      ],
      "execution_count": null,
      "outputs": [
        {
          "output_type": "stream",
          "name": "stdout",
          "text": [
            "Informe a sua altura: 1.79\n",
            "O seu peso ideal deve ser de: 72.13 para homens ou 66.46 para mulheres\n"
          ]
        }
      ]
    },
    {
      "cell_type": "markdown",
      "metadata": {
        "id": "Gg0vQ3iiZ_LK"
      },
      "source": [
        "Exercício 14"
      ]
    },
    {
      "cell_type": "code",
      "metadata": {
        "colab": {
          "base_uri": "https://localhost:8080/"
        },
        "id": "NPAULbPVZn_2",
        "outputId": "92d08824-f1ed-4e26-bea2-c27abd1dd470"
      },
      "source": [
        "peso = float(input(\"Informe o peso total da pesca: \"))\n",
        "excesso = peso - 50\n",
        "multa = excesso*4\n",
        "print(f\"O peso exececivo de pesca foi de {excesso} kg.\\n A multa a ser paga será de R${multa:.2f}\")"
      ],
      "execution_count": null,
      "outputs": [
        {
          "output_type": "stream",
          "name": "stdout",
          "text": [
            "Informe o peso total da pesca: 70\n",
            "O peso exececivo de pesca foi de 20.0 kg.\n",
            " A multa a ser paga será de R$80.00\n"
          ]
        }
      ]
    },
    {
      "cell_type": "markdown",
      "metadata": {
        "id": "nWutNZiWbolQ"
      },
      "source": [
        "Exercício 15"
      ]
    },
    {
      "cell_type": "code",
      "metadata": {
        "colab": {
          "base_uri": "https://localhost:8080/"
        },
        "id": "XBPAG3bkauY-",
        "outputId": "961f24bf-601a-4e71-880b-dac867336d83"
      },
      "source": [
        "salario_hora = float(input(\"informe quanto você ganha por hora trabalhada: \"))\n",
        "horas_trabalhadas = float(input(\"Informe a quantidade de horas trabalhadas no mês: \"))\n",
        "salario_bruto = salario_hora*horas_trabalhadas\n",
        "inss = salario_bruto*0.08\n",
        "ir = salario_bruto*0.11\n",
        "sindicato = salario_bruto*0.05\n",
        "salario_liquido = salario_bruto - (inss + ir + sindicato)\n",
        "print(f'Salário bruto: R$ {salario_bruto:.2f}\\nINSS: R$ {inss:.2f}\\nIR: R${ir:.2f}\\nSindicato: R${sindicato:.2f}')\n",
        "print(f'Salário líquido: R${salario_liquido:.2f}')\n"
      ],
      "execution_count": null,
      "outputs": [
        {
          "output_type": "stream",
          "name": "stdout",
          "text": [
            "informe quanto você ganha por hora trabalhada: 18.99\n",
            "Informe a quantidade de horas trabalhadas no mês: 160\n",
            "Salário bruto: R$ 3038.40\n",
            "INSS: R$ 243.07\n",
            "IR: R$334.22\n",
            "Sindicato: R$151.92\n",
            "Salário líquido: R$2309.18\n"
          ]
        }
      ]
    },
    {
      "cell_type": "markdown",
      "metadata": {
        "id": "TLYMmCnRfD0l"
      },
      "source": [
        "Exercício 16"
      ]
    },
    {
      "cell_type": "code",
      "metadata": {
        "colab": {
          "base_uri": "https://localhost:8080/"
        },
        "id": "9nPYcj8seC-x",
        "outputId": "b3b28659-80a0-4202-ccb8-ffd63a0bc48c"
      },
      "source": [
        "area_pintura = float(input(\"Informe a área em metros quadrados que será pintada: \"))\n",
        "litros_necessarios = int(area_pintura/3)+1\n",
        "latas_necessarias = int(litros_necessarios/18)\n",
        "valor_total = latas_necessarias*80\n",
        "print(f\"O total de latas necessárias é: {latas_necessarias}\\nO valor total é: R${valor_total}\")"
      ],
      "execution_count": null,
      "outputs": [
        {
          "output_type": "stream",
          "name": "stdout",
          "text": [
            "Informe a área em metros quadrados que será pintada: 56\n",
            "O total de latas necessárias é: 1\n",
            "O valor total é: R$80\n"
          ]
        }
      ]
    },
    {
      "cell_type": "markdown",
      "metadata": {
        "id": "lWZRloT1nUIB"
      },
      "source": [
        "Exercício 17"
      ]
    },
    {
      "cell_type": "code",
      "metadata": {
        "colab": {
          "base_uri": "https://localhost:8080/"
        },
        "id": "XP3ihhBThkfN",
        "outputId": "87c99a4c-6673-4945-f0ab-c49a27d11c45"
      },
      "source": [
        "import math      \n",
        "\n",
        "\n",
        "area_pintura = float(input(\"informe a área a ser pintada: \"))\n",
        "area_com_folga = area_pintura * 1.1\n",
        "litros_por_metro = 6\n",
        "litros_necessarios = area_com_folga / litros_por_metro\n",
        "\n",
        "#Latas\n",
        "litros_por_lata = 18\n",
        "valor_lata = 80\n",
        "latas_necessarias = math.ceil(litros_necessarios/litros_por_lata) #função ceil arredonda para cima\n",
        "valor_total_latas = valor_lata*latas_necessarias\n",
        "print(\"-----Valorsomente com latas-----\\n\")\n",
        "print(f'Você devera comprar {latas_necessarias} latas no valor total de R${valor_total_latas:.2f}\\n\\n')\n",
        "\n",
        "#Galões\n",
        "litros_por_galao = 3.6\n",
        "valor_galao = 25\n",
        "galoes_necessarios = math.ceil(litros_necessarios/litros_por_galao) #função ceil arredonda para cima\n",
        "valor_total_galoes = valor_galao*galoes_necessarios\n",
        "print(\"-----Valor somente com galões-----\\n\")\n",
        "print(f'Você devera comprar {galoes_necessarios} galões no valor total de R${valor_total_galoes:.2f}\\n\\n')\n",
        "\n",
        "#Otimização dos valores\n",
        "latas_necessarias = math.floor(litros_necessarios/litros_por_lata) #função floor arredonda para baixo\n",
        "valor_de_latas = valor_lata * latas_necessarias\n",
        "litros_faltantes = litros_necessarios % litros_por_lata\n",
        "galoes_necessarios = math.ceil(litros_faltantes / litros_por_galao) \n",
        "valor_de_galoes = valor_galao * galoes_necessarios\n",
        "\n",
        "valor_total = valor_de_latas + valor_de_galoes\n",
        "print(\"-----Valores otimizados para compras com latas e galões-----\\n\")\n",
        "print(f'Você devera comprar {latas_necessarias} latas de 18 litros no valor total de R${valor_de_latas:.2f}\\ne {galoes_necessarios} galão(oes) de 3.6 litros no valor de R${valor_de_galoes:.2f}')\n",
        "print(f'O valor total a ser pago será de : R${valor_total:.2f}')"
      ],
      "execution_count": null,
      "outputs": [
        {
          "output_type": "stream",
          "name": "stdout",
          "text": [
            "informe a área a ser pintada: 145.89\n",
            "-----Valorsomente com latas-----\n",
            "\n",
            "Você devera comprar 2 latas no valor total de R$160.00\n",
            "\n",
            "\n",
            "-----Valor somente com galões-----\n",
            "\n",
            "Você devera comprar 8 galões no valor total de R$200.00\n",
            "\n",
            "\n",
            "-----Valores otimizados para compras com latas e galões-----\n",
            "\n",
            "Você devera comprar 1 latas de 18 litros no valor total de R$80.00\n",
            "e 3 galão(oes) de 3.6 litros no valor de R$75.00\n",
            "O valor total a ser pago será de : R$155.00\n"
          ]
        }
      ]
    },
    {
      "cell_type": "markdown",
      "metadata": {
        "id": "QgZxnrn55ufZ"
      },
      "source": [
        "Exercício 18"
      ]
    },
    {
      "cell_type": "code",
      "metadata": {
        "colab": {
          "base_uri": "https://localhost:8080/"
        },
        "id": "Wic-JGqqv6Gh",
        "outputId": "59c6c668-071b-47ac-ef16-acfbad6ffca0"
      },
      "source": [
        "tamanho_arquivo_MB = float(input(\"informe o tamanho do download em MB: \"))\n",
        "velocidade_internet_mbps = float(input(\"Informe a velocidade da internet em mbps: \"))\n",
        "tempo_download_minutos = (tamanho_arquivo_MB / velocidade_internet_mbps) / 60\n",
        "print(f\"O tempo em minutos para execuytar o download será de: {tempo_download_minutos:.2f} minuto(s)\")"
      ],
      "execution_count": null,
      "outputs": [
        {
          "output_type": "stream",
          "name": "stdout",
          "text": [
            "informe o tamanho do download em MB: 6000\n",
            "Informe a velocidade da internet em mbps: 100\n",
            "O tempo em minutos para execuytar o download será de: 1.00 minuto(s)\n"
          ]
        }
      ]
    }
  ]
}